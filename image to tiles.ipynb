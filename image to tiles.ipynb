{
 "cells": [
  {
   "cell_type": "markdown",
   "metadata": {},
   "source": [
    "# All in one"
   ]
  },
  {
   "cell_type": "code",
   "execution_count": 9,
   "metadata": {},
   "outputs": [],
   "source": [
    "from skimage import io, morphology, color, util, filters\n",
    "import numpy as np\n",
    "import pandas as pd\n",
    "import os\n",
    "import shutil\n",
    "from PIL import Image\n",
    "\n",
    "import matplotlib.pyplot as plt\n",
    "#sns.set(style=\"darkgrid\", palette=\"Set2\")\n",
    "\n",
    "# height and width in pixels\n",
    "tile_size = 300\n",
    "\n",
    "import warnings\n",
    "warnings.filterwarnings(\"ignore\")"
   ]
  },
  {
   "cell_type": "code",
   "execution_count": 10,
   "metadata": {},
   "outputs": [],
   "source": [
    "img_folder = \"data/\"\n",
    "\n",
    "img_overview_fname = \"image_overview.csv\"\n",
    "img_overview = pd.read_csv(img_folder + img_overview_fname)\n",
    "\n",
    "# create dir\n",
    "if os.path.exists(\"processed_data/\"):\n",
    "    shutil.rmtree(\"processed_data\")\n",
    "tile_dir = \"processed_data/tiles/\"\n",
    "os.makedirs(tile_dir, exist_ok=True)\n",
    "\n",
    "# tile csv\n",
    "d = {\"input_tile\": list(), \"target_tile\": list()}"
   ]
  },
  {
   "cell_type": "code",
   "execution_count": 11,
   "metadata": {},
   "outputs": [],
   "source": [
    "for k in range(len(img_overview)):\n",
    "    # read fname and img\n",
    "    input_img_fname = img_overview.at[k, \"input_img_fname\"]\n",
    "    target_img_fname = img_overview.at[k, \"segmentation_fname\"]\n",
    "\n",
    "    input_img  = io.imread(img_folder + input_img_fname)\n",
    "    target_img  = io.imread(img_folder + target_img_fname)\n",
    "\n",
    "    # get dimensions\n",
    "    if len(input_img.shape) != 2:\n",
    "        input_img = (color.rgb2gray(input_img)*255).astype(np.uint8)\n",
    "    \n",
    "    img_h, img_w = input_img.shape\n",
    "    pad_size_h, pad_size_w = int((tile_size - (img_h%tile_size))), int((tile_size - (img_w%tile_size)))\n",
    "    n_tiles_h, n_tiles_w = img_h//tile_size + 1, img_w//tile_size + 1\n",
    "    pad_img_h, pad_img_w = n_tiles_h*tile_size, n_tiles_w*tile_size\n",
    "\n",
    "    # pad for whole number of tiles, 3d for last img\n",
    "    input_padded = np.pad(input_img, ((0, pad_size_h), (0, pad_size_w)), 'constant', constant_values=False)\n",
    "    target_padded = np.pad(target_img, ((0, pad_size_h), (0, pad_size_w), (0,0)), 'constant', constant_values=False)\n",
    "\n",
    "    # save tiles\n",
    "    background_mean = np.mean(target_padded[0:tile_size, 0:tile_size])\n",
    "    \n",
    "    for i in range(0, pad_img_h, tile_size):\n",
    "        for j in range(0, pad_img_w, tile_size):\n",
    "            # if similar to background, dont include, most likely no mycelium\n",
    "            if np.mean(target_padded[i:i+tile_size, j:j+tile_size]) < (background_mean + 1):\n",
    "                continue\n",
    "            \n",
    "            fname_append = f\"img-{k}_h-{i}_w-{j}\"\n",
    "            input_tile_fname = \"brightfield_\" + fname_append + \".jpg\"\n",
    "            target_tile_fname = \"fluorescence_\" + fname_append + \".jpg\"\n",
    "\n",
    "            io.imsave(tile_dir + input_tile_fname, input_padded[i:i+tile_size, j:j+tile_size], check_contrast=False)\n",
    "            io.imsave(tile_dir + target_tile_fname, target_padded[i:i+tile_size, j:j+tile_size], check_contrast=False)\n",
    "            \n",
    "            d[\"input_tile\"].append(input_tile_fname)\n",
    "            d[\"target_tile\"].append(target_tile_fname)\n",
    "\n",
    "tile_overview = pd.DataFrame(d)\n",
    "tile_overview.to_csv(tile_dir + \"tile_overview.csv\")"
   ]
  },
  {
   "cell_type": "code",
   "execution_count": null,
   "metadata": {},
   "outputs": [],
   "source": []
  }
 ],
 "metadata": {
  "kernelspec": {
   "display_name": "Python 3",
   "language": "python",
   "name": "python3"
  },
  "language_info": {
   "codemirror_mode": {
    "name": "ipython",
    "version": 3
   },
   "file_extension": ".py",
   "mimetype": "text/x-python",
   "name": "python",
   "nbconvert_exporter": "python",
   "pygments_lexer": "ipython3",
   "version": "3.8.5"
  },
  "toc": {
   "base_numbering": 1,
   "nav_menu": {},
   "number_sections": true,
   "sideBar": true,
   "skip_h1_title": false,
   "title_cell": "Table of Contents",
   "title_sidebar": "Contents",
   "toc_cell": false,
   "toc_position": {},
   "toc_section_display": true,
   "toc_window_display": false
  }
 },
 "nbformat": 4,
 "nbformat_minor": 4
}
